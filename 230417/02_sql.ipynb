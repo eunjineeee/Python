{
 "cells": [
  {
   "attachments": {},
   "cell_type": "markdown",
   "metadata": {},
   "source": [
    "### mysql과 python 연동\n",
    "1. 라이브러리 설치\n",
    "2. sql 서버의 정보를 등록\n",
    "3. sql 서버에 접속\n",
    "4. sql 쿼리문을 이용하여 데이터를 CRUD 작업"
   ]
  },
  {
   "cell_type": "code",
   "execution_count": 54,
   "metadata": {},
   "outputs": [
    {
     "name": "stdout",
     "output_type": "stream",
     "text": [
      "Requirement already satisfied: pymysql in /Users/eunjin/opt/anaconda3/lib/python3.8/site-packages (1.0.3)\n"
     ]
    }
   ],
   "source": [
    "# pymysql 설치\n",
    "!pip install pymysql"
   ]
  },
  {
   "cell_type": "code",
   "execution_count": 55,
   "metadata": {},
   "outputs": [],
   "source": [
    "import pymysql"
   ]
  },
  {
   "cell_type": "code",
   "execution_count": 56,
   "metadata": {},
   "outputs": [],
   "source": [
    "# sql 서버의 정보를 입력\n",
    "_db = pymysql.connect(\n",
    "    user = 'root',\n",
    "    host = '127.0.0.1',\n",
    "    db = 'ubion_test',\n",
    "    port = 3306\n",
    ")"
   ]
  },
  {
   "cell_type": "code",
   "execution_count": 57,
   "metadata": {},
   "outputs": [],
   "source": [
    "_db2 = pymysql.connect(\n",
    "    user = 'root', \n",
    "    host = '127.0.0.1', \n",
    "    db = 'ubion7', \n",
    "    port = 3306\n",
    ")"
   ]
  },
  {
   "cell_type": "code",
   "execution_count": 58,
   "metadata": {},
   "outputs": [],
   "source": [
    "# cursor 변수 생성\n",
    "# sql 쿼리문을 실행시키기 위한 필수 변수\n",
    "# Dictcursor는 sql 쿼리문이 실행되고 나온 데이터를 딕셔너리 형태로 받는다.\n",
    "cursor = _db.cursor(pymysql.cursors.DictCursor)"
   ]
  },
  {
   "cell_type": "code",
   "execution_count": 59,
   "metadata": {},
   "outputs": [
    {
     "data": {
      "text/plain": [
       "7"
      ]
     },
     "execution_count": 59,
     "metadata": {},
     "output_type": "execute_result"
    }
   ],
   "source": [
    "sql = \"\"\"\n",
    "    select\n",
    "    *\n",
    "    from\n",
    "    user_info\n",
    "\"\"\"\n",
    "cursor.execute(sql)"
   ]
  },
  {
   "cell_type": "code",
   "execution_count": 60,
   "metadata": {},
   "outputs": [],
   "source": [
    "result = cursor.fetchall()"
   ]
  },
  {
   "cell_type": "code",
   "execution_count": 61,
   "metadata": {},
   "outputs": [],
   "source": [
    "import pandas as pd"
   ]
  },
  {
   "cell_type": "code",
   "execution_count": 62,
   "metadata": {},
   "outputs": [
    {
     "data": {
      "text/html": [
       "<div>\n",
       "<style scoped>\n",
       "    .dataframe tbody tr th:only-of-type {\n",
       "        vertical-align: middle;\n",
       "    }\n",
       "\n",
       "    .dataframe tbody tr th {\n",
       "        vertical-align: top;\n",
       "    }\n",
       "\n",
       "    .dataframe thead th {\n",
       "        text-align: right;\n",
       "    }\n",
       "</style>\n",
       "<table border=\"1\" class=\"dataframe\">\n",
       "  <thead>\n",
       "    <tr style=\"text-align: right;\">\n",
       "      <th></th>\n",
       "      <th>user_id</th>\n",
       "      <th>user_pass</th>\n",
       "      <th>user_name</th>\n",
       "      <th>user_phone</th>\n",
       "      <th>user_gender</th>\n",
       "    </tr>\n",
       "  </thead>\n",
       "  <tbody>\n",
       "    <tr>\n",
       "      <th>0</th>\n",
       "      <td>test</td>\n",
       "      <td>1234</td>\n",
       "      <td>test</td>\n",
       "      <td>01012345678</td>\n",
       "      <td>1</td>\n",
       "    </tr>\n",
       "    <tr>\n",
       "      <th>1</th>\n",
       "      <td>test3</td>\n",
       "      <td>1234</td>\n",
       "      <td>test5</td>\n",
       "      <td>01011118888</td>\n",
       "      <td>1</td>\n",
       "    </tr>\n",
       "    <tr>\n",
       "      <th>2</th>\n",
       "      <td>test4</td>\n",
       "      <td>1234</td>\n",
       "      <td>test5</td>\n",
       "      <td>01011118888</td>\n",
       "      <td>1</td>\n",
       "    </tr>\n",
       "    <tr>\n",
       "      <th>3</th>\n",
       "      <td>test5</td>\n",
       "      <td>1234</td>\n",
       "      <td>test5</td>\n",
       "      <td>01012341234</td>\n",
       "      <td>1</td>\n",
       "    </tr>\n",
       "    <tr>\n",
       "      <th>4</th>\n",
       "      <td>test6</td>\n",
       "      <td>1234</td>\n",
       "      <td>test6</td>\n",
       "      <td>01011112222</td>\n",
       "      <td>2</td>\n",
       "    </tr>\n",
       "    <tr>\n",
       "      <th>5</th>\n",
       "      <td>test8</td>\n",
       "      <td>1234</td>\n",
       "      <td>test8</td>\n",
       "      <td>01011112233</td>\n",
       "      <td>2</td>\n",
       "    </tr>\n",
       "    <tr>\n",
       "      <th>6</th>\n",
       "      <td>test9</td>\n",
       "      <td>12234</td>\n",
       "      <td>test10</td>\n",
       "      <td>01077777777</td>\n",
       "      <td>1</td>\n",
       "    </tr>\n",
       "  </tbody>\n",
       "</table>\n",
       "</div>"
      ],
      "text/plain": [
       "  user_id user_pass user_name   user_phone  user_gender\n",
       "0    test      1234      test  01012345678            1\n",
       "1   test3      1234     test5  01011118888            1\n",
       "2   test4      1234     test5  01011118888            1\n",
       "3   test5      1234     test5  01012341234            1\n",
       "4   test6      1234     test6  01011112222            2\n",
       "5   test8      1234     test8  01011112233            2\n",
       "6   test9     12234    test10  01077777777            1"
      ]
     },
     "execution_count": 62,
     "metadata": {},
     "output_type": "execute_result"
    }
   ],
   "source": [
    "pd.DataFrame(result)"
   ]
  },
  {
   "cell_type": "code",
   "execution_count": 63,
   "metadata": {},
   "outputs": [
    {
     "data": {
      "text/html": [
       "<div>\n",
       "<style scoped>\n",
       "    .dataframe tbody tr th:only-of-type {\n",
       "        vertical-align: middle;\n",
       "    }\n",
       "\n",
       "    .dataframe tbody tr th {\n",
       "        vertical-align: top;\n",
       "    }\n",
       "\n",
       "    .dataframe thead th {\n",
       "        text-align: right;\n",
       "    }\n",
       "</style>\n",
       "<table border=\"1\" class=\"dataframe\">\n",
       "  <thead>\n",
       "    <tr style=\"text-align: right;\">\n",
       "      <th></th>\n",
       "      <th>Name</th>\n",
       "      <th>Gender</th>\n",
       "      <th>Phone</th>\n",
       "    </tr>\n",
       "  </thead>\n",
       "  <tbody>\n",
       "    <tr>\n",
       "      <th>0</th>\n",
       "      <td>A</td>\n",
       "      <td>male</td>\n",
       "      <td>010-1234-5678</td>\n",
       "    </tr>\n",
       "    <tr>\n",
       "      <th>1</th>\n",
       "      <td>B</td>\n",
       "      <td>female</td>\n",
       "      <td>010-1234-5679</td>\n",
       "    </tr>\n",
       "    <tr>\n",
       "      <th>2</th>\n",
       "      <td>C</td>\n",
       "      <td>male</td>\n",
       "      <td>010-1234-5680</td>\n",
       "    </tr>\n",
       "    <tr>\n",
       "      <th>3</th>\n",
       "      <td>D</td>\n",
       "      <td>female</td>\n",
       "      <td>010-1234-5681</td>\n",
       "    </tr>\n",
       "    <tr>\n",
       "      <th>4</th>\n",
       "      <td>E</td>\n",
       "      <td>male</td>\n",
       "      <td>010-1234-5682</td>\n",
       "    </tr>\n",
       "    <tr>\n",
       "      <th>5</th>\n",
       "      <td>F</td>\n",
       "      <td>female</td>\n",
       "      <td>010-1234-5683</td>\n",
       "    </tr>\n",
       "    <tr>\n",
       "      <th>6</th>\n",
       "      <td>G</td>\n",
       "      <td>male</td>\n",
       "      <td>010-1234-5684</td>\n",
       "    </tr>\n",
       "    <tr>\n",
       "      <th>7</th>\n",
       "      <td>H</td>\n",
       "      <td>female</td>\n",
       "      <td>010-1234-5685</td>\n",
       "    </tr>\n",
       "    <tr>\n",
       "      <th>8</th>\n",
       "      <td>I</td>\n",
       "      <td>male</td>\n",
       "      <td>010-1234-5686</td>\n",
       "    </tr>\n",
       "    <tr>\n",
       "      <th>9</th>\n",
       "      <td>J</td>\n",
       "      <td>female</td>\n",
       "      <td>010-1234-5687</td>\n",
       "    </tr>\n",
       "  </tbody>\n",
       "</table>\n",
       "</div>"
      ],
      "text/plain": [
       "  Name  Gender          Phone\n",
       "0    A    male  010-1234-5678\n",
       "1    B  female  010-1234-5679\n",
       "2    C    male  010-1234-5680\n",
       "3    D  female  010-1234-5681\n",
       "4    E    male  010-1234-5682\n",
       "5    F  female  010-1234-5683\n",
       "6    G    male  010-1234-5684\n",
       "7    H  female  010-1234-5685\n",
       "8    I    male  010-1234-5686\n",
       "9    J  female  010-1234-5687"
      ]
     },
     "execution_count": 63,
     "metadata": {},
     "output_type": "execute_result"
    }
   ],
   "source": [
    "sql = \"\"\"\n",
    "    select\n",
    "    * \n",
    "    from\n",
    "    example\n",
    "\"\"\"\n",
    "\n",
    "cursor.execute(sql)\n",
    "result = cursor.fetchall()\n",
    "df = pd.DataFrame(result)\n",
    "df"
   ]
  },
  {
   "cell_type": "code",
   "execution_count": 65,
   "metadata": {},
   "outputs": [
    {
     "data": {
      "text/plain": [
       "1"
      ]
     },
     "execution_count": 65,
     "metadata": {},
     "output_type": "execute_result"
    }
   ],
   "source": [
    "sql = \"\"\"\n",
    "    insert into\n",
    "    user_info\n",
    "    values\n",
    "    (\"test2\", \"1234\", \"test5\", \"01011118888\", 1)\n",
    "\"\"\"\n",
    "\n",
    "cursor.execute(sql)"
   ]
  },
  {
   "cell_type": "code",
   "execution_count": 66,
   "metadata": {},
   "outputs": [],
   "source": [
    "_db.commit()"
   ]
  },
  {
   "attachments": {},
   "cell_type": "markdown",
   "metadata": {},
   "source": [
    "### sql 함수화\n",
    "1. 첫 번째 함수\n",
    "    - 매개변수 1개 (sql 쿼리문)\n",
    "    - sql 쿼리문을 실행하고 결과를 데이터프레임으로 변경하여 리턴\n",
    "2. 두 번째 함수\n",
    "    - 매개변수 1개(sql 쿼리문)\n",
    "    - sql 쿼리문을 실행하고 데이터베이스를 변경\n",
    "3. 세 번째 함수\n",
    "    - 1번 함수와 2번 함수를 하나의 함수에서 실행이 될 수 있도록 생성"
   ]
  },
  {
   "cell_type": "code",
   "execution_count": null,
   "metadata": {},
   "outputs": [],
   "source": [
    "def sql_select(sql):\n",
    "    # 쿼리문 실행\n",
    "    cursor.execute(sql)\n",
    "    # 쿼리문에 대한 결과\n",
    "    result = cursor.fetchall()\n",
    "    df = pd.DataFrame(result)\n",
    "    return df"
   ]
  },
  {
   "cell_type": "code",
   "execution_count": null,
   "metadata": {},
   "outputs": [
    {
     "data": {
      "text/html": [
       "<div>\n",
       "<style scoped>\n",
       "    .dataframe tbody tr th:only-of-type {\n",
       "        vertical-align: middle;\n",
       "    }\n",
       "\n",
       "    .dataframe tbody tr th {\n",
       "        vertical-align: top;\n",
       "    }\n",
       "\n",
       "    .dataframe thead th {\n",
       "        text-align: right;\n",
       "    }\n",
       "</style>\n",
       "<table border=\"1\" class=\"dataframe\">\n",
       "  <thead>\n",
       "    <tr style=\"text-align: right;\">\n",
       "      <th></th>\n",
       "      <th>user_id</th>\n",
       "      <th>user_pass</th>\n",
       "      <th>user_name</th>\n",
       "      <th>user_phone</th>\n",
       "      <th>user_gender</th>\n",
       "    </tr>\n",
       "  </thead>\n",
       "  <tbody>\n",
       "    <tr>\n",
       "      <th>0</th>\n",
       "      <td>test</td>\n",
       "      <td>1234</td>\n",
       "      <td>test</td>\n",
       "      <td>01012345678</td>\n",
       "      <td>1</td>\n",
       "    </tr>\n",
       "    <tr>\n",
       "      <th>1</th>\n",
       "      <td>test10</td>\n",
       "      <td>12234</td>\n",
       "      <td>test10</td>\n",
       "      <td>01077777777</td>\n",
       "      <td>1</td>\n",
       "    </tr>\n",
       "    <tr>\n",
       "      <th>2</th>\n",
       "      <td>test3</td>\n",
       "      <td>1234</td>\n",
       "      <td>test5</td>\n",
       "      <td>01011118888</td>\n",
       "      <td>1</td>\n",
       "    </tr>\n",
       "    <tr>\n",
       "      <th>3</th>\n",
       "      <td>test4</td>\n",
       "      <td>1234</td>\n",
       "      <td>test5</td>\n",
       "      <td>01011118888</td>\n",
       "      <td>1</td>\n",
       "    </tr>\n",
       "    <tr>\n",
       "      <th>4</th>\n",
       "      <td>test5</td>\n",
       "      <td>1234</td>\n",
       "      <td>test5</td>\n",
       "      <td>01012341234</td>\n",
       "      <td>1</td>\n",
       "    </tr>\n",
       "    <tr>\n",
       "      <th>5</th>\n",
       "      <td>test6</td>\n",
       "      <td>1234</td>\n",
       "      <td>test6</td>\n",
       "      <td>01011112222</td>\n",
       "      <td>2</td>\n",
       "    </tr>\n",
       "    <tr>\n",
       "      <th>6</th>\n",
       "      <td>test8</td>\n",
       "      <td>1234</td>\n",
       "      <td>test8</td>\n",
       "      <td>01011112233</td>\n",
       "      <td>2</td>\n",
       "    </tr>\n",
       "  </tbody>\n",
       "</table>\n",
       "</div>"
      ],
      "text/plain": [
       "  user_id user_pass user_name   user_phone  user_gender\n",
       "0    test      1234      test  01012345678            1\n",
       "1  test10     12234    test10  01077777777            1\n",
       "2   test3      1234     test5  01011118888            1\n",
       "3   test4      1234     test5  01011118888            1\n",
       "4   test5      1234     test5  01012341234            1\n",
       "5   test6      1234     test6  01011112222            2\n",
       "6   test8      1234     test8  01011112233            2"
      ]
     },
     "execution_count": 15,
     "metadata": {},
     "output_type": "execute_result"
    }
   ],
   "source": [
    "sql = \"\"\"\n",
    "    select\n",
    "    *\n",
    "    from\n",
    "    user_info\n",
    "\"\"\"\n",
    "sql_select(sql)"
   ]
  },
  {
   "cell_type": "code",
   "execution_count": null,
   "metadata": {},
   "outputs": [],
   "source": [
    "def _sql(sql, values):\n",
    "    cursor.execute(sql, values)\n",
    "    _db.commit()"
   ]
  },
  {
   "cell_type": "code",
   "execution_count": null,
   "metadata": {},
   "outputs": [],
   "source": [
    "sql = \"\"\"\n",
    "    insert into \n",
    "    user_info \n",
    "    values \n",
    "    (%s, %s, %s, %s, %s)\n",
    "\"\"\"\n",
    "\n",
    "values = [\"test9\", \"12234\", \"test10\", \"01077777777\", 1]\n",
    "\n",
    "_sql(sql, values)"
   ]
  },
  {
   "cell_type": "code",
   "execution_count": null,
   "metadata": {},
   "outputs": [
    {
     "data": {
      "text/plain": [
       "True"
      ]
     },
     "execution_count": 19,
     "metadata": {},
     "output_type": "execute_result"
    }
   ],
   "source": [
    "sql = \"\"\"\n",
    "    select\n",
    "    *\n",
    "    from\n",
    "    user_select\n",
    "\"\"\"\n",
    "sql.find('select')\n",
    "sql.replace('\\n', '').strip().startswith('select')"
   ]
  },
  {
   "cell_type": "code",
   "execution_count": null,
   "metadata": {},
   "outputs": [],
   "source": [
    "def sql_query(sql, values = []):\n",
    "    # if (sql.find(\"select\") != -1) and (sql.find('select') < 10):\n",
    "    if (sql.replace('\\n', '').strip().startswith('select')):\n",
    "        cursor.execute(sql, values)\n",
    "        result = cursor.fetchall()\n",
    "        result = pd.DataFrame(result)\n",
    "    else:\n",
    "        cursor.execute(sql, values)\n",
    "        _db.commit()\n",
    "        result = \"Query OK\"\n",
    "    return result"
   ]
  },
  {
   "cell_type": "code",
   "execution_count": null,
   "metadata": {},
   "outputs": [
    {
     "data": {
      "text/html": [
       "<div>\n",
       "<style scoped>\n",
       "    .dataframe tbody tr th:only-of-type {\n",
       "        vertical-align: middle;\n",
       "    }\n",
       "\n",
       "    .dataframe tbody tr th {\n",
       "        vertical-align: top;\n",
       "    }\n",
       "\n",
       "    .dataframe thead th {\n",
       "        text-align: right;\n",
       "    }\n",
       "</style>\n",
       "<table border=\"1\" class=\"dataframe\">\n",
       "  <thead>\n",
       "    <tr style=\"text-align: right;\">\n",
       "      <th></th>\n",
       "      <th>user_id</th>\n",
       "      <th>user_pass</th>\n",
       "      <th>user_name</th>\n",
       "      <th>user_phone</th>\n",
       "      <th>user_gender</th>\n",
       "    </tr>\n",
       "  </thead>\n",
       "  <tbody>\n",
       "    <tr>\n",
       "      <th>0</th>\n",
       "      <td>test</td>\n",
       "      <td>1234</td>\n",
       "      <td>test</td>\n",
       "      <td>01012345678</td>\n",
       "      <td>1</td>\n",
       "    </tr>\n",
       "    <tr>\n",
       "      <th>1</th>\n",
       "      <td>test10</td>\n",
       "      <td>12234</td>\n",
       "      <td>test10</td>\n",
       "      <td>01077777777</td>\n",
       "      <td>1</td>\n",
       "    </tr>\n",
       "    <tr>\n",
       "      <th>2</th>\n",
       "      <td>test3</td>\n",
       "      <td>1234</td>\n",
       "      <td>test5</td>\n",
       "      <td>01011118888</td>\n",
       "      <td>1</td>\n",
       "    </tr>\n",
       "    <tr>\n",
       "      <th>3</th>\n",
       "      <td>test4</td>\n",
       "      <td>1234</td>\n",
       "      <td>test5</td>\n",
       "      <td>01011118888</td>\n",
       "      <td>1</td>\n",
       "    </tr>\n",
       "    <tr>\n",
       "      <th>4</th>\n",
       "      <td>test5</td>\n",
       "      <td>1234</td>\n",
       "      <td>test5</td>\n",
       "      <td>01012341234</td>\n",
       "      <td>1</td>\n",
       "    </tr>\n",
       "    <tr>\n",
       "      <th>5</th>\n",
       "      <td>test6</td>\n",
       "      <td>1234</td>\n",
       "      <td>test6</td>\n",
       "      <td>01011112222</td>\n",
       "      <td>2</td>\n",
       "    </tr>\n",
       "    <tr>\n",
       "      <th>6</th>\n",
       "      <td>test8</td>\n",
       "      <td>1234</td>\n",
       "      <td>test8</td>\n",
       "      <td>01011112233</td>\n",
       "      <td>2</td>\n",
       "    </tr>\n",
       "    <tr>\n",
       "      <th>7</th>\n",
       "      <td>test9</td>\n",
       "      <td>12234</td>\n",
       "      <td>test10</td>\n",
       "      <td>01077777777</td>\n",
       "      <td>1</td>\n",
       "    </tr>\n",
       "  </tbody>\n",
       "</table>\n",
       "</div>"
      ],
      "text/plain": [
       "  user_id user_pass user_name   user_phone  user_gender\n",
       "0    test      1234      test  01012345678            1\n",
       "1  test10     12234    test10  01077777777            1\n",
       "2   test3      1234     test5  01011118888            1\n",
       "3   test4      1234     test5  01011118888            1\n",
       "4   test5      1234     test5  01012341234            1\n",
       "5   test6      1234     test6  01011112222            2\n",
       "6   test8      1234     test8  01011112233            2\n",
       "7   test9     12234    test10  01077777777            1"
      ]
     },
     "execution_count": 21,
     "metadata": {},
     "output_type": "execute_result"
    }
   ],
   "source": [
    "sql = \"\"\"\n",
    "    select \n",
    "    * \n",
    "    from\n",
    "    user_info\n",
    "\"\"\"\n",
    "\n",
    "sql_query(sql)"
   ]
  },
  {
   "cell_type": "code",
   "execution_count": null,
   "metadata": {},
   "outputs": [
    {
     "data": {
      "text/plain": [
       "'Query OK'"
      ]
     },
     "execution_count": 22,
     "metadata": {},
     "output_type": "execute_result"
    }
   ],
   "source": [
    "sql = \"\"\"\n",
    "    delete \n",
    "    from \n",
    "    user_info \n",
    "    where \n",
    "    user_id = %s\n",
    "\"\"\"\n",
    "\n",
    "values = ['test10']\n",
    "\n",
    "sql_query(sql, values)"
   ]
  },
  {
   "cell_type": "code",
   "execution_count": null,
   "metadata": {},
   "outputs": [
    {
     "data": {
      "text/plain": [
       "<module 'mod_sql' from '/Users/eunjin/Documents/GitHub/practice/230417/mod_sql/__init__.py'>"
      ]
     },
     "execution_count": 27,
     "metadata": {},
     "output_type": "execute_result"
    }
   ],
   "source": [
    "import mod_sql\n",
    "import imp \n",
    "imp.reload(mod_sql)"
   ]
  },
  {
   "cell_type": "code",
   "execution_count": null,
   "metadata": {},
   "outputs": [],
   "source": [
    "test = mod_sql.Database(\n",
    "    _host= '127.0.0.1', \n",
    "    _user= 'root',  \n",
    "    _db = 'ubion_test', \n",
    "    _port = 3306)"
   ]
  },
  {
   "cell_type": "code",
   "execution_count": null,
   "metadata": {},
   "outputs": [
    {
     "data": {
      "text/html": [
       "<div>\n",
       "<style scoped>\n",
       "    .dataframe tbody tr th:only-of-type {\n",
       "        vertical-align: middle;\n",
       "    }\n",
       "\n",
       "    .dataframe tbody tr th {\n",
       "        vertical-align: top;\n",
       "    }\n",
       "\n",
       "    .dataframe thead th {\n",
       "        text-align: right;\n",
       "    }\n",
       "</style>\n",
       "<table border=\"1\" class=\"dataframe\">\n",
       "  <thead>\n",
       "    <tr style=\"text-align: right;\">\n",
       "      <th></th>\n",
       "      <th>user_id</th>\n",
       "      <th>user_pass</th>\n",
       "      <th>user_name</th>\n",
       "      <th>user_phone</th>\n",
       "      <th>user_gender</th>\n",
       "    </tr>\n",
       "  </thead>\n",
       "  <tbody>\n",
       "    <tr>\n",
       "      <th>0</th>\n",
       "      <td>test</td>\n",
       "      <td>1234</td>\n",
       "      <td>test</td>\n",
       "      <td>01012345678</td>\n",
       "      <td>1</td>\n",
       "    </tr>\n",
       "    <tr>\n",
       "      <th>1</th>\n",
       "      <td>test3</td>\n",
       "      <td>1234</td>\n",
       "      <td>test5</td>\n",
       "      <td>01011118888</td>\n",
       "      <td>1</td>\n",
       "    </tr>\n",
       "    <tr>\n",
       "      <th>2</th>\n",
       "      <td>test4</td>\n",
       "      <td>1234</td>\n",
       "      <td>test5</td>\n",
       "      <td>01011118888</td>\n",
       "      <td>1</td>\n",
       "    </tr>\n",
       "    <tr>\n",
       "      <th>3</th>\n",
       "      <td>test5</td>\n",
       "      <td>1234</td>\n",
       "      <td>test5</td>\n",
       "      <td>01012341234</td>\n",
       "      <td>1</td>\n",
       "    </tr>\n",
       "    <tr>\n",
       "      <th>4</th>\n",
       "      <td>test6</td>\n",
       "      <td>1234</td>\n",
       "      <td>test6</td>\n",
       "      <td>01011112222</td>\n",
       "      <td>2</td>\n",
       "    </tr>\n",
       "    <tr>\n",
       "      <th>5</th>\n",
       "      <td>test8</td>\n",
       "      <td>1234</td>\n",
       "      <td>test8</td>\n",
       "      <td>01011112233</td>\n",
       "      <td>2</td>\n",
       "    </tr>\n",
       "    <tr>\n",
       "      <th>6</th>\n",
       "      <td>test9</td>\n",
       "      <td>12234</td>\n",
       "      <td>test10</td>\n",
       "      <td>01077777777</td>\n",
       "      <td>1</td>\n",
       "    </tr>\n",
       "  </tbody>\n",
       "</table>\n",
       "</div>"
      ],
      "text/plain": [
       "  user_id user_pass user_name   user_phone  user_gender\n",
       "0    test      1234      test  01012345678            1\n",
       "1   test3      1234     test5  01011118888            1\n",
       "2   test4      1234     test5  01011118888            1\n",
       "3   test5      1234     test5  01012341234            1\n",
       "4   test6      1234     test6  01011112222            2\n",
       "5   test8      1234     test8  01011112233            2\n",
       "6   test9     12234    test10  01077777777            1"
      ]
     },
     "execution_count": 32,
     "metadata": {},
     "output_type": "execute_result"
    }
   ],
   "source": [
    "sql = \"\"\"\n",
    "    select \n",
    "    * \n",
    "    from \n",
    "    user_info\n",
    "\"\"\"\n",
    "test.sql_query(sql)"
   ]
  },
  {
   "cell_type": "code",
   "execution_count": null,
   "metadata": {},
   "outputs": [],
   "source": [
    "test2 = mod_sql.Database(\n",
    "    '127.0.0.1', \n",
    "    'root',\n",
    "    'ubion7', \n",
    "    3306\n",
    ")"
   ]
  },
  {
   "cell_type": "code",
   "execution_count": null,
   "metadata": {},
   "outputs": [
    {
     "data": {
      "text/html": [
       "<div>\n",
       "<style scoped>\n",
       "    .dataframe tbody tr th:only-of-type {\n",
       "        vertical-align: middle;\n",
       "    }\n",
       "\n",
       "    .dataframe tbody tr th {\n",
       "        vertical-align: top;\n",
       "    }\n",
       "\n",
       "    .dataframe thead th {\n",
       "        text-align: right;\n",
       "    }\n",
       "</style>\n",
       "<table border=\"1\" class=\"dataframe\">\n",
       "  <thead>\n",
       "    <tr style=\"text-align: right;\">\n",
       "      <th></th>\n",
       "      <th>이름</th>\n",
       "      <th>휴대폰번호</th>\n",
       "    </tr>\n",
       "  </thead>\n",
       "  <tbody>\n",
       "    <tr>\n",
       "      <th>0</th>\n",
       "      <td>B</td>\n",
       "      <td>010-1234-5679</td>\n",
       "    </tr>\n",
       "    <tr>\n",
       "      <th>1</th>\n",
       "      <td>D</td>\n",
       "      <td>010-1234-5681</td>\n",
       "    </tr>\n",
       "    <tr>\n",
       "      <th>2</th>\n",
       "      <td>F</td>\n",
       "      <td>010-1234-5683</td>\n",
       "    </tr>\n",
       "  </tbody>\n",
       "</table>\n",
       "</div>"
      ],
      "text/plain": [
       "  이름          휴대폰번호\n",
       "0  B  010-1234-5679\n",
       "1  D  010-1234-5681\n",
       "2  F  010-1234-5683"
      ]
     },
     "execution_count": 34,
     "metadata": {},
     "output_type": "execute_result"
    }
   ],
   "source": [
    "sql = \"\"\"\n",
    "    select \n",
    "    `Name` as '이름', \n",
    "    `Phone` as '휴대폰번호'\n",
    "    from \n",
    "    example \n",
    "    where \n",
    "    `Gender` = %s\n",
    "    limit 3\n",
    "\"\"\"\n",
    "values = ['female']\n",
    "test.sql_query(sql, values)"
   ]
  },
  {
   "cell_type": "code",
   "execution_count": null,
   "metadata": {},
   "outputs": [],
   "source": [
    "sql =  \"\"\"\n",
    "    select \n",
    "    createDt as '등록일시', \n",
    "    deathCnt as '사망자', \n",
    "    decideCnt as '감염자' \n",
    "    from \n",
    "    corona\n",
    "\"\"\"\n",
    "test.sql_query(sql)"
   ]
  },
  {
   "cell_type": "code",
   "execution_count": null,
   "metadata": {},
   "outputs": [],
   "source": [
    "test.sql_close()"
   ]
  },
  {
   "cell_type": "code",
   "execution_count": 68,
   "metadata": {},
   "outputs": [],
   "source": [
    "df = pd.read_csv(\"../csv/corona.csv\")"
   ]
  },
  {
   "cell_type": "code",
   "execution_count": 69,
   "metadata": {},
   "outputs": [
    {
     "data": {
      "text/html": [
       "<div>\n",
       "<style scoped>\n",
       "    .dataframe tbody tr th:only-of-type {\n",
       "        vertical-align: middle;\n",
       "    }\n",
       "\n",
       "    .dataframe tbody tr th {\n",
       "        vertical-align: top;\n",
       "    }\n",
       "\n",
       "    .dataframe thead th {\n",
       "        text-align: right;\n",
       "    }\n",
       "</style>\n",
       "<table border=\"1\" class=\"dataframe\">\n",
       "  <thead>\n",
       "    <tr style=\"text-align: right;\">\n",
       "      <th></th>\n",
       "      <th>Unnamed: 0</th>\n",
       "      <th>createDt</th>\n",
       "      <th>deathCnt</th>\n",
       "      <th>decideCnt</th>\n",
       "      <th>seq</th>\n",
       "      <th>stateDt</th>\n",
       "      <th>stateTime</th>\n",
       "      <th>updateDt</th>\n",
       "      <th>accExamCnt</th>\n",
       "      <th>accDefRate</th>\n",
       "    </tr>\n",
       "  </thead>\n",
       "  <tbody>\n",
       "    <tr>\n",
       "      <th>0</th>\n",
       "      <td>0</td>\n",
       "      <td>2022-06-08 09:09:05.982</td>\n",
       "      <td>24305</td>\n",
       "      <td>18188200</td>\n",
       "      <td>904</td>\n",
       "      <td>20220608</td>\n",
       "      <td>00:00</td>\n",
       "      <td>NaN</td>\n",
       "      <td>NaN</td>\n",
       "      <td>NaN</td>\n",
       "    </tr>\n",
       "    <tr>\n",
       "      <th>1</th>\n",
       "      <td>1</td>\n",
       "      <td>2022-06-07 09:09:00.897</td>\n",
       "      <td>24299</td>\n",
       "      <td>18174842</td>\n",
       "      <td>903</td>\n",
       "      <td>20220607</td>\n",
       "      <td>00:00</td>\n",
       "      <td>2022-06-08 09:10:36.846</td>\n",
       "      <td>NaN</td>\n",
       "      <td>NaN</td>\n",
       "    </tr>\n",
       "    <tr>\n",
       "      <th>2</th>\n",
       "      <td>2</td>\n",
       "      <td>2022-06-06 09:00:06.734</td>\n",
       "      <td>24279</td>\n",
       "      <td>18168670</td>\n",
       "      <td>902</td>\n",
       "      <td>20220606</td>\n",
       "      <td>00:00</td>\n",
       "      <td>2022-06-08 09:10:50.441</td>\n",
       "      <td>NaN</td>\n",
       "      <td>NaN</td>\n",
       "    </tr>\n",
       "    <tr>\n",
       "      <th>3</th>\n",
       "      <td>3</td>\n",
       "      <td>2022-06-05 08:53:19.426</td>\n",
       "      <td>24258</td>\n",
       "      <td>18163648</td>\n",
       "      <td>901</td>\n",
       "      <td>20220605</td>\n",
       "      <td>00:00</td>\n",
       "      <td>2022-06-08 09:11:04.758</td>\n",
       "      <td>NaN</td>\n",
       "      <td>NaN</td>\n",
       "    </tr>\n",
       "    <tr>\n",
       "      <th>4</th>\n",
       "      <td>4</td>\n",
       "      <td>2022-06-04 08:56:49.219</td>\n",
       "      <td>24238</td>\n",
       "      <td>18153814</td>\n",
       "      <td>900</td>\n",
       "      <td>20220604</td>\n",
       "      <td>00:00</td>\n",
       "      <td>2022-06-08 09:11:26.303</td>\n",
       "      <td>NaN</td>\n",
       "      <td>NaN</td>\n",
       "    </tr>\n",
       "  </tbody>\n",
       "</table>\n",
       "</div>"
      ],
      "text/plain": [
       "   Unnamed: 0                 createDt  deathCnt  decideCnt  seq   stateDt  \\\n",
       "0           0  2022-06-08 09:09:05.982     24305   18188200  904  20220608   \n",
       "1           1  2022-06-07 09:09:00.897     24299   18174842  903  20220607   \n",
       "2           2  2022-06-06 09:00:06.734     24279   18168670  902  20220606   \n",
       "3           3  2022-06-05 08:53:19.426     24258   18163648  901  20220605   \n",
       "4           4  2022-06-04 08:56:49.219     24238   18153814  900  20220604   \n",
       "\n",
       "  stateTime                 updateDt  accExamCnt  accDefRate  \n",
       "0     00:00                      NaN         NaN         NaN  \n",
       "1     00:00  2022-06-08 09:10:36.846         NaN         NaN  \n",
       "2     00:00  2022-06-08 09:10:50.441         NaN         NaN  \n",
       "3     00:00  2022-06-08 09:11:04.758         NaN         NaN  \n",
       "4     00:00  2022-06-08 09:11:26.303         NaN         NaN  "
      ]
     },
     "execution_count": 69,
     "metadata": {},
     "output_type": "execute_result"
    }
   ],
   "source": [
    "df.head()"
   ]
  },
  {
   "cell_type": "code",
   "execution_count": 70,
   "metadata": {},
   "outputs": [
    {
     "data": {
      "text/html": [
       "<div>\n",
       "<style scoped>\n",
       "    .dataframe tbody tr th:only-of-type {\n",
       "        vertical-align: middle;\n",
       "    }\n",
       "\n",
       "    .dataframe tbody tr th {\n",
       "        vertical-align: top;\n",
       "    }\n",
       "\n",
       "    .dataframe thead th {\n",
       "        text-align: right;\n",
       "    }\n",
       "</style>\n",
       "<table border=\"1\" class=\"dataframe\">\n",
       "  <thead>\n",
       "    <tr style=\"text-align: right;\">\n",
       "      <th></th>\n",
       "      <th>createDt</th>\n",
       "      <th>deathCnt</th>\n",
       "      <th>decideCnt</th>\n",
       "    </tr>\n",
       "  </thead>\n",
       "  <tbody>\n",
       "    <tr>\n",
       "      <th>0</th>\n",
       "      <td>2022-06-08 09:09:05.982</td>\n",
       "      <td>24305</td>\n",
       "      <td>18188200</td>\n",
       "    </tr>\n",
       "    <tr>\n",
       "      <th>1</th>\n",
       "      <td>2022-06-07 09:09:00.897</td>\n",
       "      <td>24299</td>\n",
       "      <td>18174842</td>\n",
       "    </tr>\n",
       "    <tr>\n",
       "      <th>2</th>\n",
       "      <td>2022-06-06 09:00:06.734</td>\n",
       "      <td>24279</td>\n",
       "      <td>18168670</td>\n",
       "    </tr>\n",
       "    <tr>\n",
       "      <th>3</th>\n",
       "      <td>2022-06-05 08:53:19.426</td>\n",
       "      <td>24258</td>\n",
       "      <td>18163648</td>\n",
       "    </tr>\n",
       "    <tr>\n",
       "      <th>4</th>\n",
       "      <td>2022-06-04 08:56:49.219</td>\n",
       "      <td>24238</td>\n",
       "      <td>18153814</td>\n",
       "    </tr>\n",
       "  </tbody>\n",
       "</table>\n",
       "</div>"
      ],
      "text/plain": [
       "                  createDt  deathCnt  decideCnt\n",
       "0  2022-06-08 09:09:05.982     24305   18188200\n",
       "1  2022-06-07 09:09:00.897     24299   18174842\n",
       "2  2022-06-06 09:00:06.734     24279   18168670\n",
       "3  2022-06-05 08:53:19.426     24258   18163648\n",
       "4  2022-06-04 08:56:49.219     24238   18153814"
      ]
     },
     "execution_count": 70,
     "metadata": {},
     "output_type": "execute_result"
    }
   ],
   "source": [
    "df = df[['createDt', 'deathCnt', 'decideCnt']]\n",
    "df.head()"
   ]
  },
  {
   "cell_type": "code",
   "execution_count": 71,
   "metadata": {},
   "outputs": [
    {
     "data": {
      "text/html": [
       "<div>\n",
       "<style scoped>\n",
       "    .dataframe tbody tr th:only-of-type {\n",
       "        vertical-align: middle;\n",
       "    }\n",
       "\n",
       "    .dataframe tbody tr th {\n",
       "        vertical-align: top;\n",
       "    }\n",
       "\n",
       "    .dataframe thead th {\n",
       "        text-align: right;\n",
       "    }\n",
       "</style>\n",
       "<table border=\"1\" class=\"dataframe\">\n",
       "  <thead>\n",
       "    <tr style=\"text-align: right;\">\n",
       "      <th></th>\n",
       "      <th>등록일시</th>\n",
       "      <th>사망자</th>\n",
       "      <th>감염자</th>\n",
       "    </tr>\n",
       "  </thead>\n",
       "  <tbody>\n",
       "    <tr>\n",
       "      <th>0</th>\n",
       "      <td>2022-06-08 09:09:05.982</td>\n",
       "      <td>24305</td>\n",
       "      <td>18188200</td>\n",
       "    </tr>\n",
       "    <tr>\n",
       "      <th>1</th>\n",
       "      <td>2022-06-07 09:09:00.897</td>\n",
       "      <td>24299</td>\n",
       "      <td>18174842</td>\n",
       "    </tr>\n",
       "    <tr>\n",
       "      <th>2</th>\n",
       "      <td>2022-06-06 09:00:06.734</td>\n",
       "      <td>24279</td>\n",
       "      <td>18168670</td>\n",
       "    </tr>\n",
       "    <tr>\n",
       "      <th>3</th>\n",
       "      <td>2022-06-05 08:53:19.426</td>\n",
       "      <td>24258</td>\n",
       "      <td>18163648</td>\n",
       "    </tr>\n",
       "    <tr>\n",
       "      <th>4</th>\n",
       "      <td>2022-06-04 08:56:49.219</td>\n",
       "      <td>24238</td>\n",
       "      <td>18153814</td>\n",
       "    </tr>\n",
       "  </tbody>\n",
       "</table>\n",
       "</div>"
      ],
      "text/plain": [
       "                      등록일시    사망자       감염자\n",
       "0  2022-06-08 09:09:05.982  24305  18188200\n",
       "1  2022-06-07 09:09:00.897  24299  18174842\n",
       "2  2022-06-06 09:00:06.734  24279  18168670\n",
       "3  2022-06-05 08:53:19.426  24258  18163648\n",
       "4  2022-06-04 08:56:49.219  24238  18153814"
      ]
     },
     "execution_count": 71,
     "metadata": {},
     "output_type": "execute_result"
    }
   ],
   "source": [
    "df.columns = ['등록일시', '사망자', '감염자']\n",
    "df.head()"
   ]
  },
  {
   "cell_type": "code",
   "execution_count": null,
   "metadata": {},
   "outputs": [],
   "source": [
    "sql = \"\"\"\n",
    "    select \n",
    "    `Country` as '국가', \n",
    "    `Units Sold` as '판매개수', \n",
    "    `Unit Price` as '가격', \n",
    "    `Unit Cost` as '원가', \n",
    "    (`Units Sold` * `Unit Price`) as '총수익', \n",
    "    (`Units Sold` * `Unit Cost`) as '총비용', \n",
    "    (`Units Sold` * `Unit Price` - `Units Sold` * `Unit Cost`) as '총이윤'\n",
    "    from \n",
    "    `Sales Records`\n",
    "\"\"\"\n",
    "test.sql_query(sql)"
   ]
  }
 ],
 "metadata": {
  "kernelspec": {
   "display_name": "base",
   "language": "python",
   "name": "python3"
  },
  "language_info": {
   "codemirror_mode": {
    "name": "ipython",
    "version": 3
   },
   "file_extension": ".py",
   "mimetype": "text/x-python",
   "name": "python",
   "nbconvert_exporter": "python",
   "pygments_lexer": "ipython3",
   "version": "3.8.8"
  },
  "orig_nbformat": 4
 },
 "nbformat": 4,
 "nbformat_minor": 2
}
